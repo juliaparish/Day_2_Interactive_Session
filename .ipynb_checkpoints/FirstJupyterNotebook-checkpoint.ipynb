{
 "cells": [
  {
   "cell_type": "markdown",
   "id": "ca056f21",
   "metadata": {},
   "source": [
    "## Introduction to Jupyter Notebooks\n",
    "### Julia Parish\n",
    "####EDS 212\n",
    "- bulletpoints\n",
    "- yay "
   ]
  },
  {
   "cell_type": "code",
   "execution_count": 1,
   "id": "edfa7322",
   "metadata": {},
   "outputs": [],
   "source": [
    "teddy = 10 "
   ]
  },
  {
   "cell_type": "code",
   "execution_count": 5,
   "id": "b3ef1df5",
   "metadata": {},
   "outputs": [
    {
     "data": {
      "text/plain": [
       "10"
      ]
     },
     "execution_count": 5,
     "metadata": {},
     "output_type": "execute_result"
    }
   ],
   "source": [
    "teddy"
   ]
  },
  {
   "cell_type": "code",
   "execution_count": 6,
   "id": "34a3152c",
   "metadata": {},
   "outputs": [
    {
     "data": {
      "text/plain": [
       "30"
      ]
     },
     "execution_count": 6,
     "metadata": {},
     "output_type": "execute_result"
    }
   ],
   "source": [
    "teddy + 20"
   ]
  },
  {
   "cell_type": "code",
   "execution_count": 7,
   "id": "3219b84c",
   "metadata": {},
   "outputs": [],
   "source": [
    "def my_sum(apples, bananas) : \n",
    "    fruit_total = apples + bananas \n",
    "    print(fruit_total)"
   ]
  },
  {
   "cell_type": "code",
   "execution_count": 8,
   "id": "a298abc7",
   "metadata": {},
   "outputs": [
    {
     "name": "stdout",
     "output_type": "stream",
     "text": [
      "32\n"
     ]
    }
   ],
   "source": [
    "my_sum(apples = 14, bananas = 18)"
   ]
  },
  {
   "cell_type": "code",
   "execution_count": null,
   "id": "3ebfc18f",
   "metadata": {},
   "outputs": [],
   "source": []
  }
 ],
 "metadata": {
  "kernelspec": {
   "display_name": "Python 3",
   "language": "python",
   "name": "python3"
  },
  "language_info": {
   "codemirror_mode": {
    "name": "ipython",
    "version": 3
   },
   "file_extension": ".py",
   "mimetype": "text/x-python",
   "name": "python",
   "nbconvert_exporter": "python",
   "pygments_lexer": "ipython3",
   "version": "3.8.8"
  }
 },
 "nbformat": 4,
 "nbformat_minor": 5
}
